{
 "cells": [
  {
   "cell_type": "code",
   "execution_count": 1,
   "metadata": {},
   "outputs": [],
   "source": [
    "include(\"CGS_POMDP.jl\");\n",
    "pomdp = CGSPOMDP();"
   ]
  },
  {
   "cell_type": "markdown",
   "metadata": {},
   "source": [
    "### Test: Points close are predicted with more accuracy and less uncertainty than points far."
   ]
  },
  {
   "cell_type": "code",
   "execution_count": 3,
   "metadata": {},
   "outputs": [
    {
     "data": {
      "text/plain": [
       "(Normal{Float64}(μ=-0.5187329251146544, σ=1.316834057971783), Normal{Float64}(μ=-1.0984231209315294, σ=2.1213203435596424))"
      ]
     },
     "metadata": {},
     "output_type": "display_data"
    }
   ],
   "source": [
    "gtlayer = pomdp.state.earth[1].gt\n",
    "\n",
    "# seismic_line = (x1=0.0, y1=0.0, x2=5.0, y2=98.0)\n",
    "well1 = Point(19, 34)\n",
    "well2 = Point(30, 12)\n",
    "well_close = Point(31, 14)\n",
    "well_far = Point(98, 97)\n",
    "\n",
    "all_wells = Multi([well1, well2])\n",
    "data_at_all_wells = gtlayer[all_wells, :]\n",
    "\n",
    "γ = SphericalVariogram(range=RANGE, sill=SILL, nugget=NUGGET)\n",
    "\n",
    "okrig = GeoStatsModels.OrdinaryKriging(γ)\n",
    "fitkrig = GeoStatsModels.fit(okrig, data_at_all_wells)\n",
    "\n",
    "# We notice that prediction at close has much less variance than prediction at far, \n",
    "# and as an additional sanity check the prediction at close is close to the well2 point.\n",
    "# Krigging predictprob only does one attribute at a time.\n",
    "\n",
    "probs_far = GeoStatsModels.predictprob(fitkrig, :z, well_far)\n",
    "probs_close = GeoStatsModels.predictprob(fitkrig, :z, well_close)\n",
    "probs_close, probs_far"
   ]
  },
  {
   "cell_type": "markdown",
   "metadata": {},
   "source": [
    "### Test: Uncertainty is low around known points.\n",
    "Additionally, as nugget is increased uncertainty (both globally and at known points) increases.\n",
    "Pay attention to colorbar when verifying this."
   ]
  },
  {
   "cell_type": "code",
   "execution_count": 20,
   "metadata": {},
   "outputs": [
    {
     "data": {
      "text/plain": [
       "visualize_uncertainty (generic function with 1 method)"
      ]
     },
     "metadata": {},
     "output_type": "display_data"
    }
   ],
   "source": [
    "function visualize_uncertainty(all_locs::Multi, layer::Int, col_name::String)\n",
    "    gtlayer = pomdp.state.earth[layer].gt\n",
    "    data_at_all_wells = gtlayer[all_locs, :]\n",
    "\n",
    "    γ = SphericalVariogram(range=RANGE, sill=SILL, nugget=NUGGET) # Each feature can have a different nugget in the future.\n",
    "    okrig = GeoStatsModels.OrdinaryKriging(γ)\n",
    "    fitkrig = GeoStatsModels.fit(okrig, data_at_all_wells)\n",
    "\n",
    "    df = copy(pomdp.state.earth[1].df)\n",
    "    dom = domain(pomdp.state.earth[1].gt)\n",
    "\n",
    "    var_column = Symbol(\"$(col_name)_variances\")\n",
    "    column = Symbol(\"$col_name\")\n",
    "    df[!, var_column] = [GeoStatsModels.predictprob(fitkrig, column, pt).σ\n",
    "                    for pt in domain(pomdp.state.earth[1].gt)]\n",
    "    var_map = georef(df, dom)\n",
    "    viewer(var_map)\n",
    "end\n",
    "\n",
    "# visualize_uncertainty(all_wells, 2, \"z\")"
   ]
  },
  {
   "cell_type": "markdown",
   "metadata": {},
   "source": [
    "### Buy well data at 3-4 locations and visualize belief"
   ]
  },
  {
   "cell_type": "code",
   "execution_count": null,
   "metadata": {},
   "outputs": [],
   "source": [
    "buy_well_data(pomdp, 2)\n",
    "buy_well_data(pomdp, 5)\n",
    "buy_well_data(pomdp, 7)"
   ]
  },
  {
   "cell_type": "code",
   "execution_count": 21,
   "metadata": {},
   "outputs": [],
   "source": [
    "visualize_uncertainty(Multi([pomdp.collected_locs...]), 3, \"topSealThickness\") # Note this is time consuming at just 3 gathered points."
   ]
  }
 ],
 "metadata": {
  "kernelspec": {
   "display_name": "Julia 1.11.0",
   "language": "julia",
   "name": "julia-1.11"
  },
  "language_info": {
   "file_extension": ".jl",
   "mimetype": "application/julia",
   "name": "julia",
   "version": "1.11.0"
  }
 },
 "nbformat": 4,
 "nbformat_minor": 2
}
